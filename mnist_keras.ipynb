{
  "nbformat": 4,
  "nbformat_minor": 0,
  "metadata": {
    "colab": {
      "provenance": [],
      "authorship_tag": "ABX9TyND5xAZ2KZIjf8Q+zU4OQI3",
      "include_colab_link": true
    },
    "kernelspec": {
      "name": "python3",
      "display_name": "Python 3"
    },
    "language_info": {
      "name": "python"
    }
  },
  "cells": [
    {
      "cell_type": "markdown",
      "metadata": {
        "id": "view-in-github",
        "colab_type": "text"
      },
      "source": [
        "<a href=\"https://colab.research.google.com/github/josh030603/My-Deep-Learning-Projects/blob/main/mnist_keras.ipynb\" target=\"_parent\"><img src=\"https://colab.research.google.com/assets/colab-badge.svg\" alt=\"Open In Colab\"/></a>"
      ]
    },
    {
      "cell_type": "markdown",
      "source": [
        "<font size=\"10\">**MNIST - Using An Artificial Neural Network**</font>"
      ],
      "metadata": {
        "id": "aeV4XlDXnM57"
      }
    },
    {
      "cell_type": "markdown",
      "source": [
        "**OBJECTIVE :**"
      ],
      "metadata": {
        "id": "1T2rhaD6oXaN"
      }
    },
    {
      "cell_type": "markdown",
      "source": [
        "The aim of this project is to construct and train an artificial neural network(ANN) on thousands of images of handwritten digits so that it may successfully identify others when presented. The data that will be incorporated is the MNIST database which contains 60,000 images for training and 10,000 test images. The artificial neural network will be constructed using Keras Python API with TensorFlow as the backend."
      ],
      "metadata": {
        "id": "MlkNuc4LiB3b"
      }
    },
    {
      "cell_type": "markdown",
      "source": [
        "<font size=\"5\">Importing the necessary packages"
      ],
      "metadata": {
        "id": "9St-JZ1OivyC"
      }
    },
    {
      "cell_type": "code",
      "execution_count": null,
      "metadata": {
        "id": "dJiSl7-rX7nJ"
      },
      "outputs": [],
      "source": [
        "import numpy as np\n",
        "import matplotlib.pyplot as plt\n",
        "from tensorflow import keras\n",
        "from tensorflow.keras import layers\n",
        "from keras.datasets import mnist\n",
        "from keras.utils import np_utils\n",
        "from sklearn.model_selection import train_test_split"
      ]
    },
    {
      "cell_type": "markdown",
      "source": [
        "\n",
        "<font size=\"5\">Loading and assigning the MNIST data set"
      ],
      "metadata": {
        "id": "mpnMiMS_h_Oz"
      }
    },
    {
      "cell_type": "code",
      "source": [
        "(X_train, y_train), (X_test, y_test) = mnist.load_data()"
      ],
      "metadata": {
        "id": "jyhhu9fKYB02"
      },
      "execution_count": null,
      "outputs": []
    },
    {
      "cell_type": "code",
      "source": [
        "print(\"X_train shape\", X_train.shape)\n",
        "print(\"y_train shape\", y_train.shape)\n",
        "print(\"X_test shape\", X_test.shape)\n",
        "print(\"y_test shape\", y_test.shape)"
      ],
      "metadata": {
        "colab": {
          "base_uri": "https://localhost:8080/"
        },
        "id": "HzE_G-c8jFPL",
        "outputId": "fee1a96b-45b1-4b58-ca93-c2a3499dfc15"
      },
      "execution_count": null,
      "outputs": [
        {
          "output_type": "stream",
          "name": "stdout",
          "text": [
            "X_train shape (60000, 28, 28)\n",
            "y_train shape (60000,)\n",
            "X_test shape (10000, 28, 28)\n",
            "y_test shape (10000,)\n"
          ]
        }
      ]
    },
    {
      "cell_type": "markdown",
      "source": [
        "<font size=\"5\">Examining a single digit a little closer, and printing out the matrix representing the 100th digit."
      ],
      "metadata": {
        "id": "H944bFf3kU3b"
      }
    },
    {
      "cell_type": "code",
      "source": [
        "X_train[100]"
      ],
      "metadata": {
        "colab": {
          "base_uri": "https://localhost:8080/"
        },
        "id": "mmjHgIhPjvtw",
        "outputId": "63018938-b2f8-404a-a2b0-05be6b41e31b"
      },
      "execution_count": null,
      "outputs": [
        {
          "output_type": "execute_result",
          "data": {
            "text/plain": [
              "array([[  0,   0,   0,   0,   0,   0,   0,   0,   0,   0,   0,   0,   0,\n",
              "          0,   0,   0,   0,   0,   0,   0,   0,   0,   0,   0,   0,   0,\n",
              "          0,   0],\n",
              "       [  0,   0,   0,   0,   0,   0,   0,   0,   0,   0,   0,   0,   0,\n",
              "          0,   0,   0,   0,   0,   0,   0,   0,   0,   0,   0,   0,   0,\n",
              "          0,   0],\n",
              "       [  0,   0,   0,   0,   0,   0,   0,   0,   0,   0,   0,   0,   0,\n",
              "          0,   0,   0,   0,   0,   0,   0,   0,   0,   0,   0,   0,   0,\n",
              "          0,   0],\n",
              "       [  0,   0,   0,   0,   0,   0,   0,   0,   0,   0,   0,   0,   0,\n",
              "          0,   0,   0,   0,   0,   0,   0,   0,   0,   0,   0,   0,   0,\n",
              "          0,   0],\n",
              "       [  0,   0,   0,   0,   0,   0,   0,   0,   0,   0,   0,   0,   0,\n",
              "          0,   0,   0,   0,   0,   0,   0,   0,   0,   0,   0,   0,   0,\n",
              "          0,   0],\n",
              "       [  0,   0,   0,   0,   0,   0,   0,   0,   0,   0,   0,   0,   0,\n",
              "          0,   0,   0,   0,   0,   0,   0,   0,   0,   0,   0,   0,   0,\n",
              "          0,   0],\n",
              "       [  0,   0,   0,   0,   0,   0,   0,   0,   0,   0,   0,   0,   0,\n",
              "          2,  18,  46, 136, 136, 244, 255, 241, 103,   0,   0,   0,   0,\n",
              "          0,   0],\n",
              "       [  0,   0,   0,   0,   0,   0,   0,   0,   0,   0,   0,  15,  94,\n",
              "        163, 253, 253, 253, 253, 238, 218, 204,  35,   0,   0,   0,   0,\n",
              "          0,   0],\n",
              "       [  0,   0,   0,   0,   0,   0,   0,   0,   0,   0,   0, 131, 253,\n",
              "        253, 253, 253, 237, 200,  57,   0,   0,   0,   0,   0,   0,   0,\n",
              "          0,   0],\n",
              "       [  0,   0,   0,   0,   0,   0,   0,   0,   0,   0, 155, 246, 253,\n",
              "        247, 108,  65,  45,   0,   0,   0,   0,   0,   0,   0,   0,   0,\n",
              "          0,   0],\n",
              "       [  0,   0,   0,   0,   0,   0,   0,   0,   0,   0, 207, 253, 253,\n",
              "        230,   0,   0,   0,   0,   0,   0,   0,   0,   0,   0,   0,   0,\n",
              "          0,   0],\n",
              "       [  0,   0,   0,   0,   0,   0,   0,   0,   0,   0, 157, 253, 253,\n",
              "        125,   0,   0,   0,   0,   0,   0,   0,   0,   0,   0,   0,   0,\n",
              "          0,   0],\n",
              "       [  0,   0,   0,   0,   0,   0,   0,   0,   0,   0,  89, 253, 250,\n",
              "         57,   0,   0,   0,   0,   0,   0,   0,   0,   0,   0,   0,   0,\n",
              "          0,   0],\n",
              "       [  0,   0,   0,   0,   0,   0,   0,   0,   0,   0,  89, 253, 247,\n",
              "          0,   0,   0,   0,   0,   0,   0,   0,   0,   0,   0,   0,   0,\n",
              "          0,   0],\n",
              "       [  0,   0,   0,   0,   0,   0,   0,   0,   0,   0,  89, 253, 247,\n",
              "          0,   0,   0,   0,   0,   0,   0,   0,   0,   0,   0,   0,   0,\n",
              "          0,   0],\n",
              "       [  0,   0,   0,   0,   0,   0,   0,   0,   0,   0,  89, 253, 247,\n",
              "          0,   0,   0,   0,   0,   0,   0,   0,   0,   0,   0,   0,   0,\n",
              "          0,   0],\n",
              "       [  0,   0,   0,   0,   0,   0,   0,   0,   0,   0,  21, 231, 249,\n",
              "         34,   0,   0,   0,   0,   0,   0,   0,   0,   0,   0,   0,   0,\n",
              "          0,   0],\n",
              "       [  0,   0,   0,   0,   0,   0,   0,   0,   0,   0,   0, 225, 253,\n",
              "        231, 213, 213, 123,  16,   0,   0,   0,   0,   0,   0,   0,   0,\n",
              "          0,   0],\n",
              "       [  0,   0,   0,   0,   0,   0,   0,   0,   0,   0,   0, 172, 253,\n",
              "        253, 253, 253, 253, 190,  63,   0,   0,   0,   0,   0,   0,   0,\n",
              "          0,   0],\n",
              "       [  0,   0,   0,   0,   0,   0,   0,   0,   0,   0,   0,   2, 116,\n",
              "         72, 124, 209, 253, 253, 141,   0,   0,   0,   0,   0,   0,   0,\n",
              "          0,   0],\n",
              "       [  0,   0,   0,   0,   0,   0,   0,   0,   0,   0,   0,   0,   0,\n",
              "          0,   0,  25, 219, 253, 206,   3,   0,   0,   0,   0,   0,   0,\n",
              "          0,   0],\n",
              "       [  0,   0,   0,   0,   0,   0,   0,   0,   0,   0,   0,   0,   0,\n",
              "          0,   0,   0, 104, 246, 253,   5,   0,   0,   0,   0,   0,   0,\n",
              "          0,   0],\n",
              "       [  0,   0,   0,   0,   0,   0,   0,   0,   0,   0,   0,   0,   0,\n",
              "          0,   0,   0,   0, 213, 253,   5,   0,   0,   0,   0,   0,   0,\n",
              "          0,   0],\n",
              "       [  0,   0,   0,   0,   0,   0,   0,   0,   0,   0,   0,   0,   0,\n",
              "          0,   0,   0,  26, 226, 253,   5,   0,   0,   0,   0,   0,   0,\n",
              "          0,   0],\n",
              "       [  0,   0,   0,   0,   0,   0,   0,   0,   0,   0,   0,   0,   0,\n",
              "          0,   0,   0, 132, 253, 209,   3,   0,   0,   0,   0,   0,   0,\n",
              "          0,   0],\n",
              "       [  0,   0,   0,   0,   0,   0,   0,   0,   0,   0,   0,   0,   0,\n",
              "          0,   0,   0,  78, 253,  86,   0,   0,   0,   0,   0,   0,   0,\n",
              "          0,   0],\n",
              "       [  0,   0,   0,   0,   0,   0,   0,   0,   0,   0,   0,   0,   0,\n",
              "          0,   0,   0,   0,   0,   0,   0,   0,   0,   0,   0,   0,   0,\n",
              "          0,   0],\n",
              "       [  0,   0,   0,   0,   0,   0,   0,   0,   0,   0,   0,   0,   0,\n",
              "          0,   0,   0,   0,   0,   0,   0,   0,   0,   0,   0,   0,   0,\n",
              "          0,   0]], dtype=uint8)"
            ]
          },
          "metadata": {},
          "execution_count": 73
        }
      ]
    },
    {
      "cell_type": "markdown",
      "source": [
        "<font size=\"4\">Every digit is represented in the form of pixels. We just printed the matrix of pixels representing the 100th digit in the data set. Each pixel is an 8-bit integer from 0-255. 0 is full black, while 255 is full white. This is called a single-channel pixel."
      ],
      "metadata": {
        "id": "GsHwoP_XkwGD"
      }
    },
    {
      "cell_type": "markdown",
      "source": [
        ".\n",
        "\n",
        "* <font size=\"4\">While passing an image through an Artificial Neural Network, it is more convinient to flatten the matrix of pixels into a vector.\n",
        "\n",
        "* <font size=\"4\">The 28 x 28 matrix of pixels can be flattened into a vector of length 784\n",
        "\n",
        "* <font size=\"4\">The value of each pixel currently ranges from 0 to 255. The values of these pixels can be normalized to lie in the range 0 to 1.\n",
        "\n",
        "* <font size=\"4\">Normalization of inputs in ANN's not only speeds up the learning process, but also leads to a faster convergence"
      ],
      "metadata": {
        "id": "Vx_24h-ZlMaN"
      }
    },
    {
      "cell_type": "code",
      "source": [
        "X_train = X_train.reshape(60000, 784) # reshape 60,000 28 x 28 matrices into 60,000 784-length vectors.\n",
        "X_test = X_test.reshape(10000, 784)   # reshape 10,000 28 x 28 matrices into 10,000 784-length vectors.\n",
        "\n",
        "X_train = X_train.astype('float32')   # change integers to 32-bit floating point numbers\n",
        "X_test = X_test.astype('float32')\n",
        "\n",
        "X_train /= 255                        # normalize each value for each pixel for the entire vector for each input\n",
        "X_test /= 255"
      ],
      "metadata": {
        "id": "cxRWoXaQYNGd"
      },
      "execution_count": null,
      "outputs": []
    },
    {
      "cell_type": "markdown",
      "source": [
        "<font size=\"6\">**One Hot Encoding**\n",
        "\n",
        "<font size=\"4\">The unique digits are one-hot encoded to simplify training and testing.\n",
        "\n",
        "<font size=\"4\">0 -> [1, 0, 0, 0, 0, 0, 0, 0, 0]\n",
        "\n",
        "<font size=\"4\">1 -> [0, 1, 0, 0, 0, 0, 0, 0, 0]\n",
        "\n",
        "<font size=\"4\">2 -> [0, 0, 1, 0, 0, 0, 0, 0, 0]\n",
        "\n",
        "<font size=\"4\">etc. "
      ],
      "metadata": {
        "id": "E3YjZXXAnqIX"
      }
    },
    {
      "cell_type": "code",
      "source": [
        "nb_classes = 10 # number of unique digits\n",
        "\n",
        "Y_train = np_utils.to_categorical(y_train, nb_classes)\n",
        "Y_test = np_utils.to_categorical(y_test, nb_classes)"
      ],
      "metadata": {
        "id": "xQ2-dL85YSzN"
      },
      "execution_count": null,
      "outputs": []
    },
    {
      "cell_type": "markdown",
      "source": [
        "# <font size=\"4\">Splitting the training dataset into a cross validation and training dataset.\n",
        "\n",
        "stratify=Y_train ensures that similar data isn't clumped together\n",
        "\n",
        "If the data is not stratified, there could arise a random state where all 8's or any number for that matter, go to the cross validation dataset and not even a single image of that number is in the training dataset</font>"
      ],
      "metadata": {
        "id": "4VC6OsBfpFUB"
      }
    },
    {
      "cell_type": "code",
      "source": [
        "X_train,X_val,Y_train,Y_val=train_test_split(X_train,Y_train,stratify=Y_train);"
      ],
      "metadata": {
        "id": "5RC7A6LsabkV"
      },
      "execution_count": null,
      "outputs": []
    },
    {
      "cell_type": "markdown",
      "source": [
        "<font size=\"6\">**Building a 4-Layer Fully Connected Neural Network**\n",
        "\n",
        "\n",
        "\n",
        "*   <font size=\"4\">1st layer: 512 units with a rectified linear activation function (ReLu) along with the input shape\n",
        "*   2nd layer: 512 units with a rectified linear activation function (ReLu)\n",
        "*   3rd layer: 512 units with a Scaled Exponential Linear Unit (SELU)\n",
        "*   4th layer (Output Layer) : 10 units with a Softmax activation function</font>\n",
        "\n",
        "\n"
      ],
      "metadata": {
        "id": "BZB7PDEMFpNN"
      }
    },
    {
      "cell_type": "code",
      "source": [
        "model = Sequential()\n",
        "model.add(Dense(512, input_shape=(784,)))\n",
        "model.add(Activation('relu'))\n",
        "\n",
        "\n",
        "model.add(Dense(512))\n",
        "model.add(Activation('relu'))\n",
        "\n",
        "model.add(Dense(512))\n",
        "model.add(Activation('selu'))\n",
        "\n",
        "model.add(Dense(10))\n",
        "model.add(Activation('softmax'))\n"
      ],
      "metadata": {
        "id": "pHMqoirOYXg2"
      },
      "execution_count": null,
      "outputs": []
    },
    {
      "cell_type": "markdown",
      "source": [
        "<font size=\"6\">**Compiling The Model :**\n",
        "\n",
        "*   <font size=\"4\">The categorical cross entropy function(categorical_crossentropy) is used as the loss function\n",
        "*   The adam optimizer is used, The SGD optimizer could also be used, however, for this Neural Network, the adam optimizer gave a better accuracy.</font>\n",
        "\n"
      ],
      "metadata": {
        "id": "uVemFxIgHRol"
      }
    },
    {
      "cell_type": "code",
      "source": [
        "model.compile(loss='categorical_crossentropy', optimizer='adam', metrics=['accuracy'])"
      ],
      "metadata": {
        "id": "5aQLtTeJY1uQ"
      },
      "execution_count": null,
      "outputs": []
    },
    {
      "cell_type": "markdown",
      "source": [
        "<font size=\"6\">**Training The Model :**\n",
        "\n",
        "*   <font size=\"4\">The batch size is kept at 128\n",
        "*   Number of epochs is 5</font>\n",
        "\n"
      ],
      "metadata": {
        "id": "dNO4LUyCIV18"
      }
    },
    {
      "cell_type": "code",
      "source": [
        "network_history=model.fit(X_train, Y_train,\n",
        "          batch_size=128, epochs=5,\n",
        "          verbose=1,validation_data=(X_val,Y_val))"
      ],
      "metadata": {
        "colab": {
          "base_uri": "https://localhost:8080/"
        },
        "id": "wfwzkhIeY_xX",
        "outputId": "961fd1bc-41b0-42f2-f3f8-f83fbbfdbe25"
      },
      "execution_count": null,
      "outputs": [
        {
          "output_type": "stream",
          "name": "stdout",
          "text": [
            "Epoch 1/5\n",
            "352/352 [==============================] - 9s 24ms/step - loss: 0.2339 - accuracy: 0.9281 - val_loss: 0.1297 - val_accuracy: 0.9587\n",
            "Epoch 2/5\n",
            "352/352 [==============================] - 8s 23ms/step - loss: 0.0870 - accuracy: 0.9734 - val_loss: 0.1037 - val_accuracy: 0.9691\n",
            "Epoch 3/5\n",
            "352/352 [==============================] - 8s 23ms/step - loss: 0.0585 - accuracy: 0.9812 - val_loss: 0.1041 - val_accuracy: 0.9705\n",
            "Epoch 4/5\n",
            "352/352 [==============================] - 8s 23ms/step - loss: 0.0434 - accuracy: 0.9862 - val_loss: 0.1015 - val_accuracy: 0.9723\n",
            "Epoch 5/5\n",
            "352/352 [==============================] - 9s 24ms/step - loss: 0.0375 - accuracy: 0.9877 - val_loss: 0.1015 - val_accuracy: 0.9725\n"
          ]
        }
      ]
    },
    {
      "cell_type": "markdown",
      "source": [
        "<font size=\"6\">**Evaluating The Model :**\n",
        "\n",
        "\n",
        "\n",
        "*   <font size=\"4\">The accuracy of the Neural Network on the testing dataset is 97.41%\n",
        "\n"
      ],
      "metadata": {
        "id": "8Df6Yl0uIssb"
      }
    },
    {
      "cell_type": "code",
      "source": [
        "score = model.evaluate(X_test, Y_test)\n",
        "print('Test score:', score[0])\n",
        "print('Test accuracy:', score[1])"
      ],
      "metadata": {
        "colab": {
          "base_uri": "https://localhost:8080/"
        },
        "id": "nZ2Kl_MBZLQC",
        "outputId": "152d7bb6-f91d-4b12-d9a0-379b322f8200"
      },
      "execution_count": null,
      "outputs": [
        {
          "output_type": "stream",
          "name": "stdout",
          "text": [
            "313/313 [==============================] - 2s 5ms/step - loss: 0.0989 - accuracy: 0.9741\n",
            "Test score: 0.09893950819969177\n",
            "Test accuracy: 0.9740999937057495\n"
          ]
        }
      ]
    },
    {
      "cell_type": "markdown",
      "source": [
        "<font size=\"6\">**Visualising The Data :**\n",
        "\n",
        " <font size=\"4\">The figure below shows the predicted classes and the actual classes of few images which the model correctly or incorrectly predicted.</font> "
      ],
      "metadata": {
        "id": "W2p9JgG1JHo-"
      }
    },
    {
      "cell_type": "code",
      "source": [
        "predicted_classes =np.argmax(model.predict(X_test),axis=1)\n",
        "\n",
        "correct_indices = np.nonzero(predicted_classes == y_test)[0]\n",
        "\n",
        "incorrect_indices = np.nonzero(predicted_classes != y_test)[0]"
      ],
      "metadata": {
        "colab": {
          "base_uri": "https://localhost:8080/"
        },
        "id": "WpYZD9yhcoU5",
        "outputId": "24a15007-e101-40a1-8dcc-c8c42fd00b5d"
      },
      "execution_count": null,
      "outputs": [
        {
          "output_type": "stream",
          "name": "stdout",
          "text": [
            "313/313 [==============================] - 2s 5ms/step\n"
          ]
        }
      ]
    },
    {
      "cell_type": "code",
      "source": [
        "plt.figure()\n",
        "for i, correct in enumerate(correct_indices[:9]):\n",
        "    plt.subplot(3,3,i+1)\n",
        "    plt.imshow(X_test[correct].reshape(28,28), cmap='gray', interpolation='none')\n",
        "    plt.title(\"Predicted {}, Class {}\".format(predicted_classes[correct], y_test[correct]))\n",
        "    \n",
        "plt.tight_layout()\n",
        "    \n",
        "plt.figure()\n",
        "for i, incorrect in enumerate(incorrect_indices[:9]):\n",
        "    plt.subplot(3,3,i+1)\n",
        "    plt.imshow(X_test[incorrect].reshape(28,28), cmap='gray', interpolation='none')\n",
        "    plt.title(\"Predicted {}, Class {}\".format(predicted_classes[incorrect], y_test[incorrect]))\n",
        "    \n",
        "plt.tight_layout()"
      ],
      "metadata": {
        "colab": {
          "base_uri": "https://localhost:8080/",
          "height": 577
        },
        "id": "jjLI4D8kdnvh",
        "outputId": "ac9f86a9-3346-4214-ebd9-2ef2e98a847e"
      },
      "execution_count": null,
      "outputs": [
        {
          "output_type": "display_data",
          "data": {
            "text/plain": [
              "<Figure size 432x288 with 9 Axes>"
            ],
            "image/png": "[encoded data removed]"
          },
          "metadata": {
            "needs_background": "light"
          }
        },
        {
          "output_type": "display_data",
          "data": {
            "text/plain": [
              "<Figure size 432x288 with 9 Axes>"
            ],
            "image/png": "[encoded data removed]"
          },
          "metadata": {
            "needs_background": "light"
          }
        }
      ]
    },
    {
      "cell_type": "markdown",
      "source": [
        "<font size=\"6\">**Visualising Loss and Accuracy with the Number of Epochs :**"
      ],
      "metadata": {
        "id": "2I-tLW3XqtB4"
      }
    },
    {
      "cell_type": "code",
      "source": [
        "import matplotlib.pyplot as plt\n",
        "%matplotlib inline\n",
        "\n",
        "def plot_history(network_history):\n",
        "    plt.figure()\n",
        "    plt.xlabel('Epochs')\n",
        "    plt.ylabel('Loss')\n",
        "    plt.plot(network_history.history['loss'])\n",
        "    plt.plot(network_history.history['val_loss'])\n",
        "    plt.legend(['Training', 'Validation'])\n",
        "\n",
        "    plt.figure()\n",
        "    plt.xlabel('Epochs')\n",
        "    plt.ylabel('Accuracy')\n",
        "    plt.plot(network_history.history['accuracy'])\n",
        "    plt.plot(network_history.history['val_accuracy'])\n",
        "    plt.legend(['Training', 'Validation'], loc='lower right')\n",
        "    plt.show()\n",
        "\n",
        "plot_history(network_history)"
      ],
      "metadata": {
        "colab": {
          "base_uri": "https://localhost:8080/",
          "height": 543
        },
        "id": "am912hJqgSeJ",
        "outputId": "5b0cbbc6-df71-47b9-d9e3-2d223b7f59b4"
      },
      "execution_count": null,
      "outputs": [
        {
          "output_type": "display_data",
          "data": {
            "text/plain": [
              "<Figure size 432x288 with 1 Axes>"
            ],
            "image/png": "[encoded data removed]"
          },
          "metadata": {
            "needs_background": "light"
          }
        },
        {
          "output_type": "display_data",
          "data": {
            "text/plain": [
              "<Figure size 432x288 with 1 Axes>"
            ],
            "image/png": "[encoded data removed]"
          },
          "metadata": {
            "needs_background": "light"
          }
        }
      ]
    }
  ]
}